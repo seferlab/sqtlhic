{
 "cells": [
  {
   "cell_type": "code",
   "execution_count": null,
   "metadata": {},
   "outputs": [],
   "source": [
    "import json\n",
    "import numpy as np\n",
    "import pandas as pd\n",
    "import statsmodels.api as sm\n",
    "from statsmodels.discrete.discrete_model import NegativeBinomial\n",
    "\n",
    "CHROMOSOMES = list(['chr' + str(i) for i in range(1,23)])\n",
    "RESOLUTION = 10000\n",
    "\n",
    "chrom_sizes_path = 'sizes_by_chrom.json'\n",
    "gin_path = 'GSE63525_K562_10000.tsv'\n",
    "nbyn_path = 'GSE63525_K562_10000_nbyn/GSE63525_K562_10000_nbyn_{}.txt'\n",
    "hic_matrix_path = 'GSE63525_K562_10000_nbyn/GSE63525_K562_10000_nbyn_{}.txt'\n",
    "snp_matrix_path = 'LAML_survival_nbyn/LAML.{}.snp_nxn.txt'\n",
    "d_path = '63525_d_matrices/d_{}.txt'\n",
    "result_path = 'results_d/K562_FULL_0_1.d_survival.txt'\n",
    "\n",
    "d_new = []\n",
    "hic_new = []\n",
    "snp_new = [] "
   ]
  },
  {
   "cell_type": "code",
   "execution_count": null,
   "metadata": {},
   "outputs": [],
   "source": [
    "def normalizeData(data):\n",
    "    return (data - np.min(data)) / (np.max(data) - np.min(data))"
   ]
  },
  {
   "cell_type": "code",
   "execution_count": null,
   "metadata": {},
   "outputs": [],
   "source": [
    "with open(chrom_sizes_path) as json_file:\n",
    "    sizes = json.load(json_file)"
   ]
  },
  {
   "cell_type": "code",
   "execution_count": null,
   "metadata": {},
   "outputs": [],
   "source": [
    "arrays = {}\n",
    "for key in sizes:\n",
    "    size = (int(sizes[key]/RESOLUTION),int(sizes[key]/RESOLUTION))\n",
    "\n",
    "    arrays[str(key)] = np.empty(size)\n",
    "\n",
    "    print('Empty matrix for CHR',key,'is created with size',arrays[key].shape)"
   ]
  },
  {
   "cell_type": "code",
   "execution_count": null,
   "metadata": {},
   "outputs": [],
   "source": [
    "with open(gin_path,'r') as gfile:\n",
    "\n",
    "    for line in gfile:\n",
    "        curr = line.split('\\t')\n",
    "       \n",
    "        chrom,i,j,value = curr[0], int(int(curr[1]) / RESOLUTION) - 1, int(int(curr[4]) / RESOLUTION) - 1, int(curr[-1])\n",
    "        \n",
    "        if chrom == 'MT':\n",
    "            break\n",
    "\n",
    "        #Check if not interchromosonal\n",
    "        inter_check = chrom == curr[3]\n",
    "\n",
    "        if inter_check:\n",
    "            arrays['chr' + chrom][i][j] = value\n",
    "            print('chr',chrom,i,j,value)"
   ]
  },
  {
   "cell_type": "code",
   "execution_count": null,
   "metadata": {},
   "outputs": [],
   "source": [
    "for chrom_num in arrays:\n",
    "    print('Saving CHR',chrom_num)\n",
    "    np.savetxt(nbyn_path.format(chrom_num),arrays[chrom_num],fmt = '%i')"
   ]
  },
  {
   "cell_type": "code",
   "execution_count": null,
   "metadata": {},
   "outputs": [],
   "source": [
    "for chrom in CHROMOSOMES:\n",
    "    print(chrom,'\\timporting hic matrix')\n",
    "    hic_matrix = np.loadtxt(hic_matrix_path.format(chrom))\n",
    "\n",
    "    print(chrom,'\\timporting snp splice matrix')\n",
    "    snp_matrix = np.loadtxt(snp_matrix_path.format(chrom))\n",
    "\n",
    "    print(chrom,'\\timporting d matrix')\n",
    "    d_matrix = np.loadtxt(d_path.format(chrom))\n",
    "\n",
    "\n",
    "    print(chrom,'\\tpreparing data')\n",
    "    hic_matrix = hic_matrix.flatten()\n",
    "    snp_matrix = snp_matrix.flatten()\n",
    "    d_matrix = d_matrix.flatten()\n",
    "\n",
    "    for hic,snp,d in zip(hic_matrix,snp_matrix,d_matrix):\n",
    "        \n",
    "        if not(hic == snp == 0):\n",
    "            hic_new.append(hic)\n",
    "            snp_new.append(snp)\n",
    "            d_new.append(d)"
   ]
  },
  {
   "cell_type": "code",
   "execution_count": null,
   "metadata": {},
   "outputs": [],
   "source": [
    "hic_new = normalizeData(hic_new)\n",
    "d_new = normalizeData(d_new)\n",
    "snp_new = normalizeData(snp_new)"
   ]
  },
  {
   "cell_type": "code",
   "execution_count": null,
   "metadata": {},
   "outputs": [],
   "source": [
    "data_dict = {\n",
    "    'HiC':hic_new,\n",
    "    'SNP Splice':snp_new,\n",
    "    'D':d_new,\n",
    "    'Intercept':np.ones(len(hic_new))\n",
    "}\n",
    "data = pd.DataFrame.from_dict(data_dict)"
   ]
  },
  {
   "cell_type": "code",
   "execution_count": null,
   "metadata": {},
   "outputs": [],
   "source": [
    "print(chrom,'\\tcalculating linear regression')\n",
    "model = sm.OLS(data['HiC'],data[['SNP Splice','Intercept','D']])\n",
    "#model = NegativeBinomial(data['HiC'],data[['SNP Splice','Intercept','D'],loglike_method='geometric')\n",
    "results = model.fit()"
   ]
  },
  {
   "cell_type": "code",
   "execution_count": null,
   "metadata": {},
   "outputs": [],
   "source": [
    "print(chrom,'\\twriting results')\n",
    "sourceFile = open(result_path, 'w')\n",
    "print(results.summary())\n",
    "print(results.summary(),file = sourceFile)\n",
    "sourceFile.close()"
   ]
  }
 ],
 "metadata": {
  "interpreter": {
   "hash": "cae740820776d7372072b310a81b410c85f8678d081d8663c84a1fe66d04be4f"
  },
  "kernelspec": {
   "display_name": "Python 3.8.12 64-bit ('hic': conda)",
   "language": "python",
   "name": "python3"
  },
  "language_info": {
   "name": "python",
   "version": "3.8.12"
  },
  "orig_nbformat": 4
 },
 "nbformat": 4,
 "nbformat_minor": 2
}
